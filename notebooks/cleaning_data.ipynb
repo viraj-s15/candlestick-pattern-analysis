{
 "cells": [
  {
   "cell_type": "code",
   "execution_count": null,
   "metadata": {},
   "outputs": [],
   "source": [
    "import numpy as np\n",
    "import pandas as pd\n",
    "from tqdm import tqdm"
   ]
  },
  {
   "cell_type": "code",
   "execution_count": null,
   "metadata": {},
   "outputs": [],
   "source": [
    "df = pd.read_csv(\"../data/separated_stocks/stock_0\")\n",
    "df.head()\n",
    "\n",
    "# We need to remove the stockid and the volume column\n",
    "# We also need to add the time 00:00:00 with the date and rename that columns to time "
   ]
  },
  {
   "cell_type": "code",
   "execution_count": null,
   "metadata": {},
   "outputs": [],
   "source": [
    "import os\n",
    "\n",
    "_, _, files = next(os.walk(\"../data/separated_stocks/\"))\n",
    "file_count = len(files) \n",
    "print(f\"The total number of CSV files is {file_count}\")\n"
   ]
  },
  {
   "cell_type": "code",
   "execution_count": null,
   "metadata": {},
   "outputs": [],
   "source": [
    "count = 0\n",
    "pbar = tqdm(total=1081)\n",
    "while count < 1081: \n",
    "    df = pd.read_csv(f\"../data/separated_stocks/stock_{count}\")\n",
    "    cols = [\"stockid\",\"volume\"]\n",
    "    df.drop(columns=cols,inplace=True)\n",
    "    df.rename(columns={\"date\":\"time\"},inplace=True)\n",
    "    df['time'] = df['time'].astype(str) + \" 00:00:00\" \n",
    "    df.to_csv(f\"../data/cleaned_stocks/stock_{count}\")\n",
    "    pbar.update(1)\n",
    "    count += 1"
   ]
  },
  {
   "cell_type": "code",
   "execution_count": null,
   "metadata": {},
   "outputs": [],
   "source": []
  }
 ],
 "metadata": {
  "kernelspec": {
   "display_name": "venv",
   "language": "python",
   "name": "python3"
  },
  "language_info": {
   "codemirror_mode": {
    "name": "ipython",
    "version": 3
   },
   "file_extension": ".py",
   "mimetype": "text/x-python",
   "name": "python",
   "nbconvert_exporter": "python",
   "pygments_lexer": "ipython3",
   "version": "3.11.5"
  },
  "orig_nbformat": 4
 },
 "nbformat": 4,
 "nbformat_minor": 2
}
