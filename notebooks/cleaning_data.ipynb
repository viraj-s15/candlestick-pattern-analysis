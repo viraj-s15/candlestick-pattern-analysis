{
 "cells": [
  {
   "cell_type": "code",
   "execution_count": 5,
   "metadata": {},
   "outputs": [],
   "source": [
    "import numpy as np\n",
    "import pandas as pd\n",
    "from tqdm import tqdm"
   ]
  },
  {
   "cell_type": "code",
   "execution_count": 6,
   "metadata": {},
   "outputs": [
    {
     "data": {
      "text/html": [
       "<div>\n",
       "<style scoped>\n",
       "    .dataframe tbody tr th:only-of-type {\n",
       "        vertical-align: middle;\n",
       "    }\n",
       "\n",
       "    .dataframe tbody tr th {\n",
       "        vertical-align: top;\n",
       "    }\n",
       "\n",
       "    .dataframe thead th {\n",
       "        text-align: right;\n",
       "    }\n",
       "</style>\n",
       "<table border=\"1\" class=\"dataframe\">\n",
       "  <thead>\n",
       "    <tr style=\"text-align: right;\">\n",
       "      <th></th>\n",
       "      <th>stockid</th>\n",
       "      <th>date</th>\n",
       "      <th>close</th>\n",
       "      <th>open</th>\n",
       "      <th>high</th>\n",
       "      <th>low</th>\n",
       "      <th>volume</th>\n",
       "    </tr>\n",
       "  </thead>\n",
       "  <tbody>\n",
       "    <tr>\n",
       "      <th>0</th>\n",
       "      <td>100894</td>\n",
       "      <td>2021-01-29</td>\n",
       "      <td>2068.95</td>\n",
       "      <td>2104.60</td>\n",
       "      <td>2130.00</td>\n",
       "      <td>2051.00</td>\n",
       "      <td>15520.0</td>\n",
       "    </tr>\n",
       "    <tr>\n",
       "      <th>1</th>\n",
       "      <td>100894</td>\n",
       "      <td>2021-02-17</td>\n",
       "      <td>2208.40</td>\n",
       "      <td>2191.75</td>\n",
       "      <td>2219.95</td>\n",
       "      <td>2170.10</td>\n",
       "      <td>15004.0</td>\n",
       "    </tr>\n",
       "    <tr>\n",
       "      <th>2</th>\n",
       "      <td>100894</td>\n",
       "      <td>2021-03-09</td>\n",
       "      <td>2357.75</td>\n",
       "      <td>2430.00</td>\n",
       "      <td>2494.00</td>\n",
       "      <td>2342.00</td>\n",
       "      <td>31852.0</td>\n",
       "    </tr>\n",
       "    <tr>\n",
       "      <th>3</th>\n",
       "      <td>100894</td>\n",
       "      <td>2021-03-26</td>\n",
       "      <td>2380.90</td>\n",
       "      <td>2380.00</td>\n",
       "      <td>2405.05</td>\n",
       "      <td>2350.25</td>\n",
       "      <td>15680.0</td>\n",
       "    </tr>\n",
       "    <tr>\n",
       "      <th>4</th>\n",
       "      <td>100894</td>\n",
       "      <td>2021-01-05</td>\n",
       "      <td>2194.20</td>\n",
       "      <td>2119.90</td>\n",
       "      <td>2219.00</td>\n",
       "      <td>2109.00</td>\n",
       "      <td>89316.0</td>\n",
       "    </tr>\n",
       "  </tbody>\n",
       "</table>\n",
       "</div>"
      ],
      "text/plain": [
       "   stockid        date    close     open     high      low   volume\n",
       "0   100894  2021-01-29  2068.95  2104.60  2130.00  2051.00  15520.0\n",
       "1   100894  2021-02-17  2208.40  2191.75  2219.95  2170.10  15004.0\n",
       "2   100894  2021-03-09  2357.75  2430.00  2494.00  2342.00  31852.0\n",
       "3   100894  2021-03-26  2380.90  2380.00  2405.05  2350.25  15680.0\n",
       "4   100894  2021-01-05  2194.20  2119.90  2219.00  2109.00  89316.0"
      ]
     },
     "execution_count": 6,
     "metadata": {},
     "output_type": "execute_result"
    }
   ],
   "source": [
    "df = pd.read_csv(\"../data/separated_stocks/stock_0\")\n",
    "df.head()\n",
    "\n",
    "# We need to remove the stockid and the volume column\n",
    "# We also need to add the time 00:00:00 with the date and rename that columns to time "
   ]
  },
  {
   "cell_type": "code",
   "execution_count": 7,
   "metadata": {},
   "outputs": [
    {
     "name": "stdout",
     "output_type": "stream",
     "text": [
      "The total number of CSV files is 1081\n"
     ]
    }
   ],
   "source": [
    "import os\n",
    "\n",
    "_, _, files = next(os.walk(\"../data/separated_stocks/\"))\n",
    "file_count = len(files) \n",
    "print(f\"The total number of CSV files is {file_count}\")\n"
   ]
  },
  {
   "cell_type": "code",
   "execution_count": 8,
   "metadata": {},
   "outputs": [
    {
     "name": "stderr",
     "output_type": "stream",
     "text": [
      "100%|██████████| 1081/1081 [00:18<00:00, 57.31it/s] "
     ]
    },
    {
     "name": "stderr",
     "output_type": "stream",
     "text": [
      "\n"
     ]
    },
    {
     "name": "stderr",
     "output_type": "stream",
     "text": []
    }
   ],
   "source": [
    "count = 0\n",
    "pbar = tqdm(total=1081)\n",
    "while count < 1081: \n",
    "    df = pd.read_csv(f\"../data/separated_stocks/stock_{count}\")\n",
    "    cols = [\"stockid\",\"volume\"]\n",
    "    df.drop(columns=cols,inplace=True)\n",
    "    df.rename(columns={\"date\":\"time\",\"high\":\"High\",\"close\":\"Close\",\"open\":\"Open\",\"low\":\"Low\"},inplace=True)\n",
    "    df['time'] = df['time'].astype(str) + \" 00:00:00\" \n",
    "    df.to_csv(f\"../data/cleaned_stocks/stock_{count}\",index=False)\n",
    "    pbar.update(1)\n",
    "    count += 1"
   ]
  }
 ],
 "metadata": {
  "kernelspec": {
   "display_name": "venv",
   "language": "python",
   "name": "python3"
  },
  "language_info": {
   "codemirror_mode": {
    "name": "ipython",
    "version": 3
   },
   "file_extension": ".py",
   "mimetype": "text/x-python",
   "name": "python",
   "nbconvert_exporter": "python",
   "pygments_lexer": "ipython3",
   "version": "3.11.5"
  },
  "orig_nbformat": 4
 },
 "nbformat": 4,
 "nbformat_minor": 2
}
